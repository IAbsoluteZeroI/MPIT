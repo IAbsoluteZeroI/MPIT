{
  "nbformat": 4,
  "nbformat_minor": 0,
  "metadata": {
    "colab": {
      "provenance": []
    },
    "kernelspec": {
      "name": "python3",
      "display_name": "Python 3"
    },
    "language_info": {
      "name": "python"
    }
  },
  "cells": [
    {
      "cell_type": "markdown",
      "source": [
        "# Умная система фильтрации отзывов - Revi AI\n",
        "\n",
        "Интеллектуальный микросервис для анализа отзывов, который  не только классифицирует обратную связь и определяет её тональность, но и автоматически выделяет ключевые проблемы и генерирует рекомендации для их решения"
      ],
      "metadata": {
        "id": "qgJFGNtzgunW"
      }
    },
    {
      "cell_type": "markdown",
      "source": [
        "## Шаг 0. Загрузка данных и их обработка"
      ],
      "metadata": {
        "id": "0zetJGOlh-Vq"
      }
    },
    {
      "cell_type": "code",
      "source": [],
      "metadata": {
        "id": "n1I09hDOiBfO"
      },
      "execution_count": null,
      "outputs": []
    },
    {
      "cell_type": "markdown",
      "source": [
        "## Шаг 1. Классификация спам-отзывов\n",
        "\n",
        "Определяем, спам-отзыв это или нет. Также ставим порог (0.7) для сомнительных отзывов, чтобы те сохранялись в отдельный документ и переходили на дополнительную модерацию с аннотацией"
      ],
      "metadata": {
        "id": "glwXU0cGg9Sl"
      }
    },
    {
      "cell_type": "code",
      "source": [
        "from transformers import pipeline\n",
        "\n",
        "classifier = pipeline(\"text-classification\", model=\"distilbert-base-uncased\")\n",
        "\n",
        "def classify_review(review):\n",
        "    result = classifier(review)\n",
        "    if result[0]['score'] < 0.7:\n",
        "        return \"Спорный\"\n",
        "    return result[0]['label']"
      ],
      "metadata": {
        "id": "aZQY7bGzg2Bt"
      },
      "execution_count": null,
      "outputs": []
    },
    {
      "cell_type": "markdown",
      "source": [
        "## Шаг 2. Анализ тональности\n",
        "\n",
        "Определяем тип отзыва - негативный / позитивный. Для негативных выставляем флаг `Спам, удалить`."
      ],
      "metadata": {
        "id": "zXJsYNqgiDwl"
      }
    },
    {
      "cell_type": "code",
      "source": [
        "from transformers import pipeline\n",
        "\n",
        "sentiment_analyzer = pipeline(\"sentiment-analysis\", model=\"roberta-base\")\n",
        "\n",
        "def analyze_sentiment(review):\n",
        "    result = sentiment_analyzer(review)\n",
        "    return result[0]['label']  # 'POSITIVE' or 'NEGATIVE'"
      ],
      "metadata": {
        "id": "i6SMctxpikm9"
      },
      "execution_count": null,
      "outputs": []
    },
    {
      "cell_type": "markdown",
      "source": [
        "## Шаг 3. Анализ контекста\n",
        "\n",
        "Если отзыв имеет тип \"Негативный\", то выявляем проблемы. А если отзыв \"Позитивный\" - причины хорошего отзыва\n"
      ],
      "metadata": {
        "id": "mt0MgJIsinpT"
      }
    },
    {
      "cell_type": "markdown",
      "source": [
        "### Выявление проблемы негативного отзыва"
      ],
      "metadata": {
        "id": "6sjZPjMGkouZ"
      }
    },
    {
      "cell_type": "code",
      "source": [
        "problem_classifier = pipeline(\"text-classification\", model=\"your-fine-tuned-model\")\n",
        "\n",
        "def identify_problem(review):\n",
        "    result = problem_classifier(review)\n",
        "    return result[0]['label']  # e.g., 'Долгая доставка'"
      ],
      "metadata": {
        "id": "jpu8oBsWi3g4"
      },
      "execution_count": null,
      "outputs": []
    },
    {
      "cell_type": "markdown",
      "source": [
        "### zero-shot подход"
      ],
      "metadata": {
        "id": "uGWMYwKZkgsi"
      }
    },
    {
      "cell_type": "code",
      "source": [
        "from sentence_transformers import SentenceTransformer, util\n",
        "\n",
        "# Шаг 1. Загрузка модели\n",
        "model = SentenceTransformer('all-MiniLM-L6-v2')  # Легкая и быстрая модель\n",
        "\n",
        "# Шаг 2. Список известных проблем\n",
        "problem_list = [\n",
        "    \"Долгая доставка\",\n",
        "    \"Холодная еда\",\n",
        "    \"Не вежливый курьер\",\n",
        "    \"Неправильный заказ\",\n",
        "    \"Высокая цена\",\n",
        "]\n",
        "\n",
        "# Создаем эмбеддинги проблем\n",
        "problem_embeddings = model.encode(problem_list, convert_to_tensor=True)\n",
        "\n",
        "# Шаг 3. Обработка отзыва\n",
        "def match_problem(review_text):\n",
        "    review_embedding = model.encode(review_text, convert_to_tensor=True)\n",
        "\n",
        "    # Сравнение эмбеддингов\n",
        "    similarities = util.cos_sim(review_embedding, problem_embeddings)\n",
        "\n",
        "    # Находим наиболее похожую проблему\n",
        "    max_sim_idx = similarities.argmax().item()\n",
        "    max_similarity = similarities[0, max_sim_idx].item()\n",
        "\n",
        "    # Устанавливаем порог сходства\n",
        "    threshold = 0.5\n",
        "    if max_similarity >= threshold:\n",
        "        return problem_list[max_sim_idx], max_similarity\n",
        "    else:\n",
        "        return \"Неопределенная проблема\", max_similarity\n",
        "\n",
        "# Пример\n",
        "review = \"Пиццу доставили через 2 часа, она была холодной\"\n",
        "problem, similarity = match_problem(review)\n",
        "print(f\"Определенная проблема: {problem} (Сходство: {similarity:.2f})\")\n"
      ],
      "metadata": {
        "id": "fpu6TVo6kgJV"
      },
      "execution_count": null,
      "outputs": []
    },
    {
      "cell_type": "markdown",
      "source": [
        "### Выявление причины позитивного отзыва"
      ],
      "metadata": {
        "id": "ROnVE7c5kf7H"
      }
    },
    {
      "cell_type": "code",
      "source": [
        "generator = pipeline(\"text2text-generation\", model=\"t5-base\")\n",
        "\n",
        "def positive_reason(review):\n",
        "    input_text = f\"Why is this review positive? {review}\"\n",
        "    result = generator(input_text, max_length=50)\n",
        "    return result[0]['generated_text']"
      ],
      "metadata": {
        "id": "xiM4_926i_F1"
      },
      "execution_count": null,
      "outputs": []
    },
    {
      "cell_type": "markdown",
      "source": [
        "## Шаг 4. Выделение эмоций\n",
        "\n",
        "Оптимально использовать 6 основных эмоций: радость, грусть, гнев, страх, удивление, отвращение. Эти эмоции универсальны и покрывают большинство сценариев."
      ],
      "metadata": {
        "id": "BhWIj-hGjGmi"
      }
    },
    {
      "cell_type": "code",
      "source": [
        "from transformers import pipeline\n",
        "\n",
        "emotion_analyzer = pipeline(\"text-classification\", model=\"bhadresh-savani/distilbert-base-uncased-emotion\")\n",
        "\n",
        "def detect_emotion(review):\n",
        "    emotions = emotion_analyzer(review)\n",
        "    return max(emotions, key=lambda x: x['score'])['label']  # e.g., 'anger'"
      ],
      "metadata": {
        "id": "7bHZ5CdqjOmS"
      },
      "execution_count": null,
      "outputs": []
    },
    {
      "cell_type": "markdown",
      "source": [
        "## Шаг 5. Генерация рекомендаций\n",
        "\n",
        "Используем GPT для построения рекомендаций. Рекомендации можно отправлять ресторанам - партнерам для лучшей коммуникации.\n"
      ],
      "metadata": {
        "id": "3j-jWECtjXDw"
      }
    },
    {
      "cell_type": "code",
      "source": [
        "def generate_recommendation(problem):\n",
        "    prompt = f\"Provide a recommendation for the problem: {problem}\"\n",
        "    result = generator(prompt, max_length=50)\n",
        "    return result[0]['generated_text']"
      ],
      "metadata": {
        "id": "VSobGS2lje9I"
      },
      "execution_count": null,
      "outputs": []
    }
  ]
}